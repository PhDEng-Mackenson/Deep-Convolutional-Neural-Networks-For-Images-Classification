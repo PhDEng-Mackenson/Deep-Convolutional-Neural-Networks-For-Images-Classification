{
 "cells": [
  {
   "cell_type": "markdown",
   "metadata": {
    "tags": []
   },
   "source": [
    "# Deep Convolutional Neural Networks For Images Classification. \n",
    "\n",
    "\n"
   ]
  },
  {
   "cell_type": "markdown",
   "metadata": {},
   "source": [
    "# Deep Convolutional Neural Networks\n",
    "- Convolution operations in one and two dimensions\n",
    "- The building blocks of CNN architectures\n",
    "- Implementing deep CNNs in TensorFlow\n",
    "- Cat and Dogs Recognition."
   ]
  },
  {
   "cell_type": "code",
   "execution_count": 1,
   "metadata": {},
   "outputs": [],
   "source": [
    "import tensorflow as tf\n",
    "from tensorflow import keras\n",
    "from tensorflow.keras import optimizers\n",
    "from tensorflow.keras import layers\n",
    "\n",
    "import numpy as np\n",
    "import matplotlib.pyplot as plt"
   ]
  },
  {
   "cell_type": "code",
   "execution_count": 2,
   "metadata": {},
   "outputs": [
    {
     "name": "stdout",
     "output_type": "stream",
     "text": [
      "2.12.0\n"
     ]
    }
   ],
   "source": [
    "print(tf.__version__)"
   ]
  },
  {
   "cell_type": "markdown",
   "metadata": {},
   "source": [
    "# Cats and Dogs Images Classification"
   ]
  },
  {
   "cell_type": "code",
   "execution_count": 3,
   "metadata": {},
   "outputs": [],
   "source": [
    "import os, shutil, pathlib"
   ]
  },
  {
   "cell_type": "markdown",
   "metadata": {},
   "source": [
    "## Set the paths"
   ]
  },
  {
   "cell_type": "code",
   "execution_count": 4,
   "metadata": {},
   "outputs": [
    {
     "data": {
      "text/plain": [
       "WindowsPath('Data_dogs-vs-cats/train')"
      ]
     },
     "execution_count": 4,
     "metadata": {},
     "output_type": "execute_result"
    }
   ],
   "source": [
    "\n",
    "path = \"Data_dogs-vs-cats/train/\"\n",
    "original_dir = pathlib.Path(path)\n",
    "original_dir"
   ]
  },
  {
   "cell_type": "code",
   "execution_count": 5,
   "metadata": {},
   "outputs": [
    {
     "data": {
      "text/plain": [
       "WindowsPath('Data_dogs-vs-cats_small')"
      ]
     },
     "execution_count": 5,
     "metadata": {},
     "output_type": "execute_result"
    }
   ],
   "source": [
    "\n",
    "path = \"Data_dogs-vs-cats_small\"\n",
    "new_base_dir = pathlib.Path(path)\n",
    "new_base_dir"
   ]
  },
  {
   "cell_type": "markdown",
   "metadata": {},
   "source": [
    "### Function to make directories with subsets of [cat|dog] images"
   ]
  },
  {
   "cell_type": "code",
   "execution_count": 6,
   "metadata": {
    "tags": []
   },
   "outputs": [],
   "source": [
    "def make_subset(original_dir, new_base_dir, subset_name, start_index, end_index): \n",
    "    for category in (\"cat\", \"dog\"):\n",
    "        \n",
    "        dir = new_base_dir / subset_name / category\n",
    "        shutil.rmtree(dir, ignore_errors = True)\n",
    "        os.makedirs(dir)\n",
    "            \n",
    "        fnames = [f\"{category}.{i}.jpg\" for i in range(start_index, end_index)] \n",
    "            \n",
    "        for fname in fnames:\n",
    "            \n",
    "            shutil.copyfile(src = original_dir / fname, dst = dir / fname)\n"
   ]
  },
  {
   "cell_type": "markdown",
   "metadata": {},
   "source": [
    "### Make subsets"
   ]
  },
  {
   "cell_type": "code",
   "execution_count": 7,
   "metadata": {},
   "outputs": [],
   "source": [
    "n = 1000\n",
    "d = 100\n",
    "\n",
    "make_subset(original_dir, new_base_dir, \"train\", start_index = 0, end_index = n)\n",
    "\n",
    "make_subset(original_dir, new_base_dir, \"validation\", start_index = n, end_index = n+d)\n",
    "\n",
    "make_subset(original_dir, new_base_dir, \"test\", start_index = n+d, end_index = n+2*d)"
   ]
  },
  {
   "cell_type": "markdown",
   "metadata": {},
   "source": [
    "### Load image into DataSets"
   ]
  },
  {
   "cell_type": "code",
   "execution_count": 9,
   "metadata": {},
   "outputs": [
    {
     "name": "stdout",
     "output_type": "stream",
     "text": [
      "Found 2000 files belonging to 2 classes.\n",
      "Found 200 files belonging to 2 classes.\n",
      "Found 200 files belonging to 2 classes.\n"
     ]
    }
   ],
   "source": [
    "from tensorflow.keras.utils import image_dataset_from_directory\n",
    "batch_size = 32\n",
    "image_w_h = 64 \n",
    "\n",
    "image_size = (image_w_h, image_w_h) # (180, 180)\n",
    "\n",
    "train_dataset = image_dataset_from_directory(\n",
    "    new_base_dir / \"train\",\n",
    "    image_size = image_size,\n",
    "    batch_size = batch_size)\n",
    "\n",
    "validation_dataset = image_dataset_from_directory(\n",
    "    new_base_dir / \"validation\",\n",
    "    image_size = image_size,\n",
    "    batch_size = batch_size)\n",
    "\n",
    "test_dataset = image_dataset_from_directory(\n",
    "    new_base_dir / \"test\",\n",
    "    image_size = image_size,\n",
    "    batch_size = batch_size)"
   ]
  },
  {
   "cell_type": "code",
   "execution_count": 10,
   "metadata": {},
   "outputs": [
    {
     "name": "stdout",
     "output_type": "stream",
     "text": [
      "(<tf.Tensor: shape=(32, 64, 64, 3), dtype=float32, numpy=\n",
      "array([[[[8.10000000e+01, 1.46000000e+02, 1.14000000e+02],\n",
      "         [8.00000000e+01, 1.45000000e+02, 1.13000000e+02],\n",
      "         [7.90000000e+01, 1.44000000e+02, 1.12000000e+02],\n",
      "         ...,\n",
      "         [1.31000000e+02, 1.85000000e+02, 1.51000000e+02],\n",
      "         [1.31000000e+02, 1.85000000e+02, 1.53000000e+02],\n",
      "         [1.29882812e+02, 1.83882812e+02, 1.51882812e+02]],\n",
      "\n",
      "        [[8.08828125e+01, 1.45882812e+02, 1.13882812e+02],\n",
      "         [7.90000000e+01, 1.44000000e+02, 1.12000000e+02],\n",
      "         [7.90000000e+01, 1.44000000e+02, 1.12000000e+02],\n",
      "         ...,\n",
      "         [1.32000000e+02, 1.86000000e+02, 1.52000000e+02],\n",
      "         [1.31000000e+02, 1.85000000e+02, 1.53000000e+02],\n",
      "         [1.31000000e+02, 1.85000000e+02, 1.53000000e+02]],\n",
      "\n",
      "        [[8.15609741e+01, 1.45920349e+02, 1.14240662e+02],\n",
      "         [7.99609375e+01, 1.44320312e+02, 1.12640625e+02],\n",
      "         [7.90000000e+01, 1.44000000e+02, 1.12000000e+02],\n",
      "         ...,\n",
      "         [1.32640625e+02, 1.85679688e+02, 1.52640625e+02],\n",
      "         [1.30679688e+02, 1.84559265e+02, 1.54176453e+02],\n",
      "         [1.30359375e+02, 1.84600037e+02, 1.53154724e+02]],\n",
      "\n",
      "        ...,\n",
      "\n",
      "        [[1.23320312e+02, 1.24320312e+02, 1.18320312e+02],\n",
      "         [1.22000000e+02, 1.23000000e+02, 1.17000000e+02],\n",
      "         [1.21601746e+02, 1.22601746e+02, 1.16601746e+02],\n",
      "         ...,\n",
      "         [8.20000000e+01, 1.35000000e+02, 1.09000000e+02],\n",
      "         [8.03203125e+01, 1.33320312e+02, 1.05320312e+02],\n",
      "         [7.93999634e+01, 1.32399963e+02, 1.04399963e+02]],\n",
      "\n",
      "        [[1.17992188e+02, 1.18992188e+02, 1.12992188e+02],\n",
      "         [1.17992188e+02, 1.18992188e+02, 1.12992188e+02],\n",
      "         [1.16992188e+02, 1.17992188e+02, 1.11992188e+02],\n",
      "         ...,\n",
      "         [7.89921875e+01, 1.31992188e+02, 1.05992188e+02],\n",
      "         [7.76406250e+01, 1.30640625e+02, 1.02640625e+02],\n",
      "         [7.97716064e+01, 1.32771606e+02, 1.04771606e+02]],\n",
      "\n",
      "        [[1.11664062e+02, 1.12664062e+02, 1.07664062e+02],\n",
      "         [1.12328125e+02, 1.13328125e+02, 1.08328125e+02],\n",
      "         [1.11664062e+02, 1.12664062e+02, 1.07664062e+02],\n",
      "         ...,\n",
      "         [7.53281250e+01, 1.28328125e+02, 1.02328125e+02],\n",
      "         [7.43281250e+01, 1.27328125e+02, 9.93281250e+01],\n",
      "         [7.15862427e+01, 1.24586243e+02, 9.65862427e+01]]],\n",
      "\n",
      "\n",
      "       [[[8.01562500e+01, 7.20390625e+01, 5.27656250e+01],\n",
      "         [5.31484375e+01, 5.41953125e+01, 4.07109375e+01],\n",
      "         [8.92343750e+01, 8.89921875e+01, 7.54062500e+01],\n",
      "         ...,\n",
      "         [1.94632812e+02, 1.98070312e+02, 2.04023438e+02],\n",
      "         [1.82781250e+02, 1.85781250e+02, 1.92281250e+02],\n",
      "         [1.84414062e+02, 1.82468750e+02, 1.92757812e+02]],\n",
      "\n",
      "        [[9.01796875e+01, 7.56953125e+01, 5.42500000e+01],\n",
      "         [7.01640625e+01, 6.42109375e+01, 4.93750000e+01],\n",
      "         [7.78906250e+01, 7.23125000e+01, 5.66171875e+01],\n",
      "         ...,\n",
      "         [1.89906250e+02, 1.94125000e+02, 1.96171875e+02],\n",
      "         [1.80843750e+02, 1.84843750e+02, 1.86109375e+02],\n",
      "         [1.82570312e+02, 1.82046875e+02, 1.83414062e+02]],\n",
      "\n",
      "        [[9.84062500e+01, 8.19453125e+01, 6.13828125e+01],\n",
      "         [7.66093750e+01, 6.85234375e+01, 5.49531250e+01],\n",
      "         [7.86484375e+01, 7.10703125e+01, 5.59843750e+01],\n",
      "         ...,\n",
      "         [1.94687500e+02, 1.98906250e+02, 2.02562500e+02],\n",
      "         [1.59617188e+02, 1.63617188e+02, 1.62617188e+02],\n",
      "         [1.69421875e+02, 1.70109375e+02, 1.65226562e+02]],\n",
      "\n",
      "        ...,\n",
      "\n",
      "        [[9.92500000e+01, 8.72500000e+01, 7.32500000e+01],\n",
      "         [8.62500000e+01, 7.42500000e+01, 6.02500000e+01],\n",
      "         [7.84687500e+01, 6.64687500e+01, 5.24687500e+01],\n",
      "         ...,\n",
      "         [1.34312500e+02, 1.33070312e+02, 1.25484375e+02],\n",
      "         [1.26257812e+02, 1.26257812e+02, 1.15820312e+02],\n",
      "         [1.73523438e+02, 1.74273438e+02, 1.60773438e+02]],\n",
      "\n",
      "        [[1.02500000e+02, 9.05000000e+01, 7.65000000e+01],\n",
      "         [9.40312500e+01, 8.20312500e+01, 6.80312500e+01],\n",
      "         [8.41171875e+01, 7.21171875e+01, 5.81171875e+01],\n",
      "         ...,\n",
      "         [1.82203125e+02, 1.81906250e+02, 1.73632812e+02],\n",
      "         [1.83273438e+02, 1.85273438e+02, 1.73570312e+02],\n",
      "         [1.75398438e+02, 1.77398438e+02, 1.63398438e+02]],\n",
      "\n",
      "        [[1.07750000e+02, 9.57500000e+01, 8.17500000e+01],\n",
      "         [9.92812500e+01, 8.72812500e+01, 7.32812500e+01],\n",
      "         [8.61953125e+01, 7.41953125e+01, 6.01953125e+01],\n",
      "         ...,\n",
      "         [1.73070312e+02, 1.76070312e+02, 1.67804688e+02],\n",
      "         [1.79500000e+02, 1.82500000e+02, 1.74562500e+02],\n",
      "         [1.80171875e+02, 1.83171875e+02, 1.72171875e+02]]],\n",
      "\n",
      "\n",
      "       [[[2.39278442e+02, 2.40278442e+02, 2.45278442e+02],\n",
      "         [2.40166809e+02, 2.40901184e+02, 2.45033997e+02],\n",
      "         [1.80254639e+02, 1.79809326e+02, 1.83145264e+02],\n",
      "         ...,\n",
      "         [1.56075012e+02, 1.36706238e+02, 1.21370300e+02],\n",
      "         [1.44501526e+02, 1.22501526e+02, 9.88999634e+01],\n",
      "         [1.34210938e+02, 1.11078125e+02, 8.22109375e+01]],\n",
      "\n",
      "        [[2.32931519e+02, 2.33931519e+02, 2.38931519e+02],\n",
      "         [2.45411743e+02, 2.46146118e+02, 2.50278931e+02],\n",
      "         [1.79011841e+02, 1.78566528e+02, 1.81902466e+02],\n",
      "         ...,\n",
      "         [1.55271912e+02, 1.34381287e+02, 1.22045349e+02],\n",
      "         [1.42779846e+02, 1.17948975e+02, 9.65123901e+01],\n",
      "         [1.34359375e+02, 1.10578430e+02, 8.22656250e+01]],\n",
      "\n",
      "        [[2.42793640e+02, 2.43793640e+02, 2.47321777e+02],\n",
      "         [2.34470093e+02, 2.35204468e+02, 2.39337280e+02],\n",
      "         [2.27913269e+02, 2.27467957e+02, 2.30803894e+02],\n",
      "         ...,\n",
      "         [1.50398499e+02, 1.29328247e+02, 1.18617310e+02],\n",
      "         [1.44636047e+02, 1.19503235e+02, 1.00167297e+02],\n",
      "         [1.35632812e+02, 1.10170288e+02, 8.43640747e+01]],\n",
      "\n",
      "        ...,\n",
      "\n",
      "        [[1.59235901e+02, 1.03798401e+02, 4.74312134e+01],\n",
      "         [1.57689392e+02, 1.01590881e+02, 4.33098145e+01],\n",
      "         [1.56483948e+02, 9.76871948e+01, 3.98668213e+01],\n",
      "         ...,\n",
      "         [2.30031189e+02, 2.29171814e+02, 2.33960876e+02],\n",
      "         [2.37621765e+02, 2.36762390e+02, 2.41551453e+02],\n",
      "         [2.30195312e+02, 2.29335938e+02, 2.34125000e+02]],\n",
      "\n",
      "        [[1.64789062e+02, 1.04789062e+02, 4.27890625e+01],\n",
      "         [1.64101562e+02, 1.04101562e+02, 4.23671875e+01],\n",
      "         [1.64903198e+02, 1.04903198e+02, 4.49031982e+01],\n",
      "         ...,\n",
      "         [2.29418823e+02, 2.28418823e+02, 2.33418823e+02],\n",
      "         [2.34218750e+02, 2.33218750e+02, 2.38218750e+02],\n",
      "         [2.35047180e+02, 2.34047180e+02, 2.39047180e+02]],\n",
      "\n",
      "        [[1.56750000e+02, 9.67500000e+01, 3.47500000e+01],\n",
      "         [1.55906555e+02, 9.59065552e+01, 3.41721802e+01],\n",
      "         [1.60171875e+02, 1.00171875e+02, 4.01718750e+01],\n",
      "         ...,\n",
      "         [2.29770325e+02, 2.28770325e+02, 2.33770325e+02],\n",
      "         [2.30414062e+02, 2.29414062e+02, 2.34414062e+02],\n",
      "         [2.36174683e+02, 2.35174683e+02, 2.40174683e+02]]],\n",
      "\n",
      "\n",
      "       ...,\n",
      "\n",
      "\n",
      "       [[[1.58398438e+02, 1.25398438e+02, 1.08398438e+02],\n",
      "         [1.57195312e+02, 1.24195312e+02, 1.07195312e+02],\n",
      "         [1.57593750e+02, 1.24593750e+02, 1.05593750e+02],\n",
      "         ...,\n",
      "         [1.29790649e+02, 9.97906494e+01, 7.57906494e+01],\n",
      "         [1.30711243e+02, 1.00711243e+02, 7.67112427e+01],\n",
      "         [1.29000000e+02, 9.90000000e+01, 7.50000000e+01]],\n",
      "\n",
      "        [[1.55398438e+02, 1.22398438e+02, 1.05398438e+02],\n",
      "         [1.57842834e+02, 1.24842834e+02, 1.07842834e+02],\n",
      "         [1.60993713e+02, 1.27993713e+02, 1.08993713e+02],\n",
      "         ...,\n",
      "         [1.25551636e+02, 9.95360107e+01, 7.45438232e+01],\n",
      "         [1.26000000e+02, 9.60000000e+01, 7.20000000e+01],\n",
      "         [1.29601562e+02, 9.94840698e+01, 7.58365479e+01]],\n",
      "\n",
      "        [[1.58998413e+02, 1.27998413e+02, 1.07998413e+02],\n",
      "         [1.59993713e+02, 1.28993713e+02, 1.08993713e+02],\n",
      "         [1.60007812e+02, 1.27007812e+02, 1.08007812e+02],\n",
      "         ...,\n",
      "         [1.26015503e+02, 9.90076904e+01, 7.20311279e+01],\n",
      "         [1.24609375e+02, 9.66093750e+01, 7.26093750e+01],\n",
      "         [1.26012512e+02, 9.80125122e+01, 7.40125122e+01]],\n",
      "\n",
      "        ...,\n",
      "\n",
      "        [[1.75396912e+02, 3.23812866e+01, 7.53812866e+01],\n",
      "         [1.62029907e+02, 1.90142822e+01, 6.20142822e+01],\n",
      "         [1.63968323e+02, 2.79528198e+01, 6.79605713e+01],\n",
      "         ...,\n",
      "         [1.48844543e+02, 5.48054810e+01, 8.08211060e+01],\n",
      "         [1.39423584e+02, 4.34001465e+01, 7.04079590e+01],\n",
      "         [1.49412537e+02, 4.93984375e+01, 7.74031372e+01]],\n",
      "\n",
      "        [[1.59585938e+02, 2.59603271e+01, 6.54762573e+01],\n",
      "         [1.67414062e+02, 3.43184814e+01, 7.36709595e+01],\n",
      "         [1.58256104e+02, 2.82561035e+01, 6.62561035e+01],\n",
      "         ...,\n",
      "         [1.38420166e+02, 3.92452393e+01, 6.72389526e+01],\n",
      "         [1.37957703e+02, 3.50721436e+01, 6.40339966e+01],\n",
      "         [1.47414062e+02, 3.68046875e+01, 6.86093750e+01]],\n",
      "\n",
      "        [[1.44150940e+02, 2.31509399e+01, 5.74271851e+01],\n",
      "         [1.55053772e+02, 3.40537720e+01, 6.80856323e+01],\n",
      "         [1.49632812e+02, 2.48359375e+01, 6.12343750e+01],\n",
      "         ...,\n",
      "         [1.33383057e+02, 3.62127075e+01, 6.36002197e+01],\n",
      "         [1.42179077e+02, 3.69284668e+01, 6.67331543e+01],\n",
      "         [1.55077820e+02, 3.45571899e+01, 6.76350098e+01]]],\n",
      "\n",
      "\n",
      "       [[[1.21874023e+02, 6.87402344e+00, 1.98740234e+01],\n",
      "         [1.25332520e+02, 6.68750000e+00, 1.56875000e+01],\n",
      "         [1.19718750e+02, 5.91943359e+00, 5.81250000e+00],\n",
      "         ...,\n",
      "         [1.36263184e+02, 6.20556641e+00, 2.19965820e+01],\n",
      "         [1.28950195e+02, 6.90478516e+00, 3.48266602e+01],\n",
      "         [1.15670410e+02, 6.63916016e+00, 3.95463867e+01]],\n",
      "\n",
      "        [[1.24576660e+02, 1.09521484e+00, 5.51416016e+00],\n",
      "         [1.34250000e+02, 5.71875000e+00, 6.45312500e+00],\n",
      "         [1.33655273e+02, 3.73437500e+00, 5.70312500e+00],\n",
      "         ...,\n",
      "         [1.23812500e+02, 1.12500000e+00, 2.57343750e+01],\n",
      "         [1.28136230e+02, 8.40185547e+00, 3.37524414e+01],\n",
      "         [1.18292480e+02, 6.15039062e+00, 2.97299805e+01]],\n",
      "\n",
      "        [[1.38877441e+02, 5.82568359e+00, 4.03369141e+00],\n",
      "         [1.42295898e+02, 5.51464844e+00, 0.00000000e+00],\n",
      "         [1.14440918e+02, 1.78125000e+00, 0.00000000e+00],\n",
      "         ...,\n",
      "         [1.39800293e+02, 9.03320312e-02, 8.81250000e+00],\n",
      "         [1.27328125e+02, 6.95800781e-01, 1.25625000e+01],\n",
      "         [1.15497559e+02, 3.49755859e+00, 1.42451172e+01]],\n",
      "\n",
      "        ...,\n",
      "\n",
      "        [[2.13171875e+02, 3.38569336e+01, 3.43486328e+01],\n",
      "         [2.19584473e+02, 3.04291992e+01, 2.17949219e+01],\n",
      "         [2.04730957e+02, 1.14965820e+01, 1.43627930e+01],\n",
      "         ...,\n",
      "         [1.99008301e+02, 1.70136719e+01, 3.96855469e+01],\n",
      "         [2.07131348e+02, 2.16938477e+01, 2.72407227e+01],\n",
      "         [2.16099609e+02, 2.40419922e+01, 3.20419922e+01]],\n",
      "\n",
      "        [[1.85302734e+02, 1.87387695e+01, 2.82075195e+01],\n",
      "         [1.94044434e+02, 1.68237305e+01, 1.96494141e+01],\n",
      "         [1.90203125e+02, 2.22260742e+01, 1.44687500e+01],\n",
      "         ...,\n",
      "         [1.64413574e+02, 7.96875000e-01, 1.78906250e+01],\n",
      "         [1.72247559e+02, 2.11850586e+01, 2.26113281e+01],\n",
      "         [1.87852051e+02, 1.38876953e+01, 2.89941406e+01]],\n",
      "\n",
      "        [[1.74921875e+02, 1.47963867e+01, 2.60468750e+01],\n",
      "         [1.80062500e+02, 1.03110352e+01, 1.52031250e+01],\n",
      "         [1.76328125e+02, 1.12031250e+01, 7.17187500e+00],\n",
      "         ...,\n",
      "         [1.62885742e+02, 6.54199219e+00, 2.31464844e+01],\n",
      "         [1.60796875e+02, 5.79687500e+00, 1.17968750e+01],\n",
      "         [1.65469238e+02, 6.84423828e+00, 1.98754883e+01]]],\n",
      "\n",
      "\n",
      "       [[[1.22885254e+02, 1.51591064e+02, 1.86122070e+02],\n",
      "         [2.37242188e+02, 2.55000000e+02, 2.37304688e+02],\n",
      "         [1.56222168e+02, 1.73705322e+02, 1.62031250e+02],\n",
      "         ...,\n",
      "         [1.87982178e+02, 2.36013428e+02, 2.50107178e+02],\n",
      "         [1.86000000e+02, 2.33218750e+02, 2.48781250e+02],\n",
      "         [1.84617188e+02, 2.31617188e+02, 2.50429688e+02]],\n",
      "\n",
      "        [[2.33521973e+02, 2.52771973e+02, 2.46498047e+02],\n",
      "         [9.21562500e+01, 1.05892090e+02, 7.87365723e+01],\n",
      "         [5.22524414e+01, 6.80078125e+01, 4.29375000e+01],\n",
      "         ...,\n",
      "         [1.89937500e+02, 2.37968750e+02, 2.51430908e+02],\n",
      "         [1.88000000e+02, 2.35218750e+02, 2.50781250e+02],\n",
      "         [1.84406250e+02, 2.31406250e+02, 2.50218750e+02]],\n",
      "\n",
      "        [[1.71610352e+02, 1.94561279e+02, 1.63361572e+02],\n",
      "         [5.83881836e+01, 7.36015625e+01, 8.14350586e+01],\n",
      "         [4.83906250e+01, 5.77453613e+01, 5.45263672e+01],\n",
      "         ...,\n",
      "         [1.91942139e+02, 2.39968750e+02, 2.52318848e+02],\n",
      "         [1.90000000e+02, 2.37218750e+02, 2.52781250e+02],\n",
      "         [1.86466553e+02, 2.33466553e+02, 2.52279053e+02]],\n",
      "\n",
      "        ...,\n",
      "\n",
      "        [[1.01197510e+02, 7.45056152e+01, 7.48137207e+01],\n",
      "         [1.12367920e+02, 9.54045410e+01, 9.30698242e+01],\n",
      "         [1.43320312e+02, 1.39262451e+02, 1.13642090e+02],\n",
      "         ...,\n",
      "         [1.25634277e+02, 1.30529297e+02, 8.47856445e+01],\n",
      "         [1.40923828e+02, 1.42033203e+02, 9.25488281e+01],\n",
      "         [1.62312744e+02, 1.57202148e+02, 1.05371826e+02]],\n",
      "\n",
      "        [[1.04367432e+02, 7.51486816e+01, 7.21486816e+01],\n",
      "         [1.00680420e+02, 7.21179199e+01, 7.66477051e+01],\n",
      "         [1.43196533e+02, 1.35445312e+02, 1.31462158e+02],\n",
      "         ...,\n",
      "         [1.23247070e+02, 1.27634033e+02, 8.00024414e+01],\n",
      "         [1.24329590e+02, 1.25986572e+02, 7.58530273e+01],\n",
      "         [1.41653564e+02, 1.40060059e+02, 9.54665527e+01]],\n",
      "\n",
      "        [[1.05114502e+02, 8.01145020e+01, 8.41145020e+01],\n",
      "         [9.42419434e+01, 6.92419434e+01, 7.32419434e+01],\n",
      "         [9.54531250e+01, 7.60881348e+01, 8.38125000e+01],\n",
      "         ...,\n",
      "         [1.49089355e+02, 1.48120605e+02, 9.41206055e+01],\n",
      "         [1.32232178e+02, 1.41677734e+02, 8.82402344e+01],\n",
      "         [1.20724121e+02, 1.25911621e+02, 7.82866211e+01]]]],\n",
      "      dtype=float32)>, <tf.Tensor: shape=(32,), dtype=int32, numpy=\n",
      "array([0, 0, 0, 0, 1, 0, 0, 1, 0, 0, 1, 1, 0, 0, 0, 0, 0, 0, 1, 0, 0, 0,\n",
      "       1, 0, 1, 1, 1, 1, 0, 0, 0, 1])>)\n"
     ]
    }
   ],
   "source": [
    "for item in train_dataset:\n",
    "    print(item)\n",
    "    break"
   ]
  },
  {
   "cell_type": "code",
   "execution_count": 11,
   "metadata": {},
   "outputs": [],
   "source": [
    "def count_items(ds):\n",
    "    N = 0\n",
    "    for _ in enumerate(ds):\n",
    "        N += 1\n",
    "    return N    "
   ]
  },
  {
   "cell_type": "code",
   "execution_count": 12,
   "metadata": {},
   "outputs": [
    {
     "data": {
      "text/plain": [
       "63"
      ]
     },
     "execution_count": 12,
     "metadata": {},
     "output_type": "execute_result"
    }
   ],
   "source": [
    "count_items(train_dataset)"
   ]
  },
  {
   "cell_type": "markdown",
   "metadata": {},
   "source": [
    "## Generate the model"
   ]
  },
  {
   "cell_type": "code",
   "execution_count": 13,
   "metadata": {},
   "outputs": [],
   "source": [
    "kernel_size = 3\n",
    "dropout = 0.1"
   ]
  },
  {
   "cell_type": "code",
   "execution_count": 14,
   "metadata": {},
   "outputs": [
    {
     "name": "stdout",
     "output_type": "stream",
     "text": [
      "Model: \"model\"\n",
      "_________________________________________________________________\n",
      " Layer (type)                Output Shape              Param #   \n",
      "=================================================================\n",
      " input_1 (InputLayer)        [(None, 64, 64, 3)]       0         \n",
      "                                                                 \n",
      " rescaling (Rescaling)       (None, 64, 64, 3)         0         \n",
      "                                                                 \n",
      " conv2d (Conv2D)             (None, 62, 62, 32)        896       \n",
      "                                                                 \n",
      " max_pooling2d (MaxPooling2D  (None, 31, 31, 32)       0         \n",
      " )                                                               \n",
      "                                                                 \n",
      " dropout (Dropout)           (None, 31, 31, 32)        0         \n",
      "                                                                 \n",
      " conv2d_1 (Conv2D)           (None, 29, 29, 64)        18496     \n",
      "                                                                 \n",
      " max_pooling2d_1 (MaxPooling  (None, 14, 14, 64)       0         \n",
      " 2D)                                                             \n",
      "                                                                 \n",
      " dropout_1 (Dropout)         (None, 14, 14, 64)        0         \n",
      "                                                                 \n",
      " flatten (Flatten)           (None, 12544)             0         \n",
      "                                                                 \n",
      " dropout_2 (Dropout)         (None, 12544)             0         \n",
      "                                                                 \n",
      " dense (Dense)               (None, 1)                 12545     \n",
      "                                                                 \n",
      "=================================================================\n",
      "Total params: 31,937\n",
      "Trainable params: 31,937\n",
      "Non-trainable params: 0\n",
      "_________________________________________________________________\n"
     ]
    }
   ],
   "source": [
    "inputs = keras.Input(shape = (image_w_h, image_w_h, 3))\n",
    "\n",
    "x = layers.Rescaling(1./255)(inputs)\n",
    "\n",
    "x = layers.Conv2D(filters = 32, kernel_size = kernel_size, activation = \"relu\")(x) \n",
    "x = layers.MaxPooling2D(pool_size = 2)(x)\n",
    "x = layers.Dropout(dropout)(x)\n",
    "\n",
    "x = layers.Conv2D(filters = 64, kernel_size = kernel_size, activation = \"relu\")(x) \n",
    "x = layers.MaxPooling2D(pool_size = 2)(x)\n",
    "x = layers.Dropout(dropout)(x) \n",
    "x = layers.Flatten()(x)\n",
    "x = layers.Dropout(0.5)(x)\n",
    "\n",
    "outputs = layers.Dense(1, activation = \"sigmoid\")(x)\n",
    "\n",
    "model = keras.Model(inputs = inputs, outputs = outputs)\n",
    "model.summary()"
   ]
  },
  {
   "cell_type": "markdown",
   "metadata": {},
   "source": [
    "## Compile the model"
   ]
  },
  {
   "cell_type": "code",
   "execution_count": 15,
   "metadata": {},
   "outputs": [],
   "source": [
    "model.compile(loss = \"binary_crossentropy\", optimizer = \"adam\", metrics = [\"accuracy\"])"
   ]
  },
  {
   "cell_type": "code",
   "execution_count": 16,
   "metadata": {},
   "outputs": [
    {
     "data": {
      "text/plain": [
       "tensorflow.python.data.ops.batch_op._BatchDataset"
      ]
     },
     "execution_count": 16,
     "metadata": {},
     "output_type": "execute_result"
    }
   ],
   "source": [
    "type(train_dataset)"
   ]
  },
  {
   "cell_type": "code",
   "execution_count": 17,
   "metadata": {},
   "outputs": [
    {
     "name": "stdout",
     "output_type": "stream",
     "text": [
      "x: (32, 64, 64, 3), y: (32,)\n"
     ]
    }
   ],
   "source": [
    "for i, item in enumerate(train_dataset):\n",
    "    print(f\"x: {item[0].shape}, y: {item[1].shape}\")\n",
    "    break"
   ]
  },
  {
   "cell_type": "markdown",
   "metadata": {},
   "source": [
    "## Train the model"
   ]
  },
  {
   "cell_type": "code",
   "execution_count": 18,
   "metadata": {},
   "outputs": [
    {
     "name": "stdout",
     "output_type": "stream",
     "text": [
      "Epoch 1/30\n",
      "63/63 [==============================] - 12s 160ms/step - loss: 0.6939 - accuracy: 0.5170 - val_loss: 0.6790 - val_accuracy: 0.5900\n",
      "Epoch 2/30\n",
      "63/63 [==============================] - 10s 147ms/step - loss: 0.6572 - accuracy: 0.6225 - val_loss: 0.6581 - val_accuracy: 0.6100\n",
      "Epoch 3/30\n",
      "63/63 [==============================] - 9s 146ms/step - loss: 0.6089 - accuracy: 0.6690 - val_loss: 0.6507 - val_accuracy: 0.6150\n",
      "Epoch 4/30\n",
      "63/63 [==============================] - 10s 147ms/step - loss: 0.5759 - accuracy: 0.7020 - val_loss: 0.6244 - val_accuracy: 0.6250\n",
      "Epoch 5/30\n",
      "63/63 [==============================] - 10s 147ms/step - loss: 0.5359 - accuracy: 0.7355 - val_loss: 0.6557 - val_accuracy: 0.6450\n",
      "Epoch 6/30\n",
      "63/63 [==============================] - 10s 148ms/step - loss: 0.4949 - accuracy: 0.7675 - val_loss: 0.6896 - val_accuracy: 0.6600\n",
      "Epoch 7/30\n",
      "63/63 [==============================] - 10s 148ms/step - loss: 0.4779 - accuracy: 0.7705 - val_loss: 0.6428 - val_accuracy: 0.6600\n",
      "Epoch 8/30\n",
      "63/63 [==============================] - 10s 153ms/step - loss: 0.4455 - accuracy: 0.7910 - val_loss: 0.6774 - val_accuracy: 0.6150\n",
      "Epoch 9/30\n",
      "63/63 [==============================] - 10s 159ms/step - loss: 0.4307 - accuracy: 0.7920 - val_loss: 0.6804 - val_accuracy: 0.6500\n",
      "Epoch 10/30\n",
      "63/63 [==============================] - 10s 157ms/step - loss: 0.4058 - accuracy: 0.8135 - val_loss: 0.6762 - val_accuracy: 0.6700\n",
      "Epoch 11/30\n",
      "63/63 [==============================] - 10s 155ms/step - loss: 0.3996 - accuracy: 0.8160 - val_loss: 0.6537 - val_accuracy: 0.6700\n",
      "Epoch 12/30\n",
      "63/63 [==============================] - 10s 155ms/step - loss: 0.3779 - accuracy: 0.8370 - val_loss: 0.6779 - val_accuracy: 0.6950\n",
      "Epoch 13/30\n",
      "63/63 [==============================] - 10s 154ms/step - loss: 0.3740 - accuracy: 0.8370 - val_loss: 0.6812 - val_accuracy: 0.6600\n",
      "Epoch 14/30\n",
      "63/63 [==============================] - 10s 154ms/step - loss: 0.3402 - accuracy: 0.8540 - val_loss: 0.7160 - val_accuracy: 0.6700\n",
      "Epoch 15/30\n",
      "63/63 [==============================] - 10s 155ms/step - loss: 0.3258 - accuracy: 0.8625 - val_loss: 0.6894 - val_accuracy: 0.6800\n",
      "Epoch 16/30\n",
      "63/63 [==============================] - 10s 158ms/step - loss: 0.3160 - accuracy: 0.8645 - val_loss: 0.7015 - val_accuracy: 0.6850\n",
      "Epoch 17/30\n",
      "63/63 [==============================] - 10s 154ms/step - loss: 0.2969 - accuracy: 0.8745 - val_loss: 0.7045 - val_accuracy: 0.6800\n",
      "Epoch 18/30\n",
      "63/63 [==============================] - 10s 154ms/step - loss: 0.2894 - accuracy: 0.8810 - val_loss: 0.7296 - val_accuracy: 0.6900\n",
      "Epoch 19/30\n",
      "63/63 [==============================] - 10s 152ms/step - loss: 0.2889 - accuracy: 0.8760 - val_loss: 0.7164 - val_accuracy: 0.6750\n",
      "Epoch 20/30\n",
      "63/63 [==============================] - 10s 160ms/step - loss: 0.2598 - accuracy: 0.8995 - val_loss: 0.7320 - val_accuracy: 0.7150\n",
      "Epoch 21/30\n",
      "63/63 [==============================] - 10s 155ms/step - loss: 0.2600 - accuracy: 0.8935 - val_loss: 0.7477 - val_accuracy: 0.7000\n",
      "Epoch 22/30\n",
      "63/63 [==============================] - 10s 153ms/step - loss: 0.2486 - accuracy: 0.9010 - val_loss: 0.7616 - val_accuracy: 0.6850\n",
      "Epoch 23/30\n",
      "63/63 [==============================] - 10s 148ms/step - loss: 0.2472 - accuracy: 0.9020 - val_loss: 0.7781 - val_accuracy: 0.6950\n",
      "Epoch 24/30\n",
      "63/63 [==============================] - 10s 153ms/step - loss: 0.2292 - accuracy: 0.9040 - val_loss: 0.7463 - val_accuracy: 0.7050\n",
      "Epoch 25/30\n",
      "63/63 [==============================] - 10s 148ms/step - loss: 0.2224 - accuracy: 0.9090 - val_loss: 0.7645 - val_accuracy: 0.7250\n",
      "Epoch 26/30\n",
      "63/63 [==============================] - 9s 144ms/step - loss: 0.2224 - accuracy: 0.9035 - val_loss: 0.7714 - val_accuracy: 0.7200\n",
      "Epoch 27/30\n",
      "63/63 [==============================] - 10s 153ms/step - loss: 0.2030 - accuracy: 0.9165 - val_loss: 0.7820 - val_accuracy: 0.7200\n",
      "Epoch 28/30\n",
      "63/63 [==============================] - 10s 150ms/step - loss: 0.1820 - accuracy: 0.9335 - val_loss: 0.8426 - val_accuracy: 0.7200\n",
      "Epoch 29/30\n",
      "63/63 [==============================] - 10s 153ms/step - loss: 0.1875 - accuracy: 0.9280 - val_loss: 0.8191 - val_accuracy: 0.7150\n",
      "Epoch 30/30\n",
      "63/63 [==============================] - 10s 154ms/step - loss: 0.2040 - accuracy: 0.9180 - val_loss: 0.8385 - val_accuracy: 0.7200\n"
     ]
    }
   ],
   "source": [
    "history = model.fit(train_dataset,\n",
    "                    epochs = 30,\n",
    "                    validation_data = validation_dataset)\n",
    "                    "
   ]
  },
  {
   "cell_type": "code",
   "execution_count": 20,
   "metadata": {},
   "outputs": [],
   "source": [
    "hist =  history.history"
   ]
  },
  {
   "cell_type": "code",
   "execution_count": 21,
   "metadata": {},
   "outputs": [
    {
     "data": {
      "image/png": "[encoded data removed]",
      "text/plain": [
       "<Figure size 864x288 with 2 Axes>"
      ]
     },
     "metadata": {
      "needs_background": "light"
     },
     "output_type": "display_data"
    }
   ],
   "source": [
    "accuracy = hist[\"accuracy\"]\n",
    "val_accuracy = hist[\"val_accuracy\"]\n",
    "loss = hist[\"loss\"]\n",
    "val_loss = hist[\"val_loss\"]\n",
    "\n",
    "fig = plt.figure(figsize = (12, 4))\n",
    "\n",
    "ax = fig.add_subplot(1, 2, 1)\n",
    "ax.plot(loss, label = \"Training\") \n",
    "ax.plot(val_loss, label = \"Validation\") \n",
    "ax.set_xlabel(\"Epochs\")\n",
    "ax.set_ylabel(\"Loss\")\n",
    "ax.grid()\n",
    "ax.legend()\n",
    "\n",
    "ax = fig.add_subplot(1, 2, 2)\n",
    "ax.plot(accuracy, label = \"Training\") \n",
    "ax.plot(val_accuracy, label = \"Validation\") \n",
    "ax.set_xlabel(\"Epochs\")\n",
    "ax.set_ylabel(\"Accuracy\")\n",
    "ax.grid()\n",
    "ax.legend()\n",
    "\n",
    "plt.show()"
   ]
  },
  {
   "cell_type": "code",
   "execution_count": 22,
   "metadata": {},
   "outputs": [],
   "source": [
    "modelFile = \"Deep Convolutional Neural Networks For Images Classification.callback.keras\"\n",
    "model.save(modelFile)"
   ]
  },
  {
   "cell_type": "markdown",
   "metadata": {},
   "source": [
    "## Testing"
   ]
  },
  {
   "cell_type": "code",
   "execution_count": 23,
   "metadata": {},
   "outputs": [
    {
     "name": "stdout",
     "output_type": "stream",
     "text": [
      "7/7 [==============================] - 1s 49ms/step - loss: 0.7390 - accuracy: 0.7300\n",
      "Test accuracy: 0.730\n"
     ]
    }
   ],
   "source": [
    "test_loss, test_acc = model.evaluate(test_dataset) \n",
    "print(f\"Test accuracy: {test_acc:.3f}\")"
   ]
  },
  {
   "cell_type": "code",
   "execution_count": null,
   "metadata": {},
   "outputs": [],
   "source": []
  },
  {
   "cell_type": "code",
   "execution_count": null,
   "metadata": {},
   "outputs": [],
   "source": []
  }
 ],
 "metadata": {
  "kernelspec": {
   "display_name": "Python 3 (ipykernel)",
   "language": "python",
   "name": "python3"
  },
  "language_info": {
   "codemirror_mode": {
    "name": "ipython",
    "version": 3
   },
   "file_extension": ".py",
   "mimetype": "text/x-python",
   "name": "python",
   "nbconvert_exporter": "python",
   "pygments_lexer": "ipython3",
   "version": "3.9.12"
  }
 },
 "nbformat": 4,
 "nbformat_minor": 4
}
